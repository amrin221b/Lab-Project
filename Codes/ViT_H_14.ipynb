{
  "cells": [
    {
      "cell_type": "markdown",
      "metadata": {
        "id": "Wf5KrEb6vrkR"
      },
      "source": [
        "# Cell 1: Import Libraries"
      ]
    },
    {
      "cell_type": "code",
      "source": [
        "import torch\n",
        "from torch import nn, optim\n",
        "from torch.utils.data import DataLoader, Subset\n",
        "from torchvision.datasets import ImageFolder\n",
        "from torchvision.transforms import Compose, Resize, ToTensor, Normalize\n",
        "from sklearn.model_selection import train_test_split\n",
        "import numpy as np\n",
        "import time\n",
        "import timm"
      ],
      "metadata": {
        "id": "iCC8Wm_uIACG"
      },
      "execution_count": null,
      "outputs": []
    },
    {
      "cell_type": "markdown",
      "source": [
        "# Cell 2: Mount Google Drive"
      ],
      "metadata": {
        "id": "Q2h5taWGY1cy"
      }
    },
    {
      "cell_type": "code",
      "source": [
        "from google.colab import drive\n",
        "drive.mount('/content/drive')\n"
      ],
      "metadata": {
        "id": "9-GQh1JgHwmW"
      },
      "execution_count": null,
      "outputs": []
    },
    {
      "cell_type": "code",
      "source": [
        "pip install timm\n"
      ],
      "metadata": {
        "id": "6QwGQ5CEQE5N"
      },
      "execution_count": null,
      "outputs": []
    },
    {
      "cell_type": "markdown",
      "source": [
        "# Cell 3: Data Preparation\n"
      ],
      "metadata": {
        "id": "_F3CPrP5aBM1"
      }
    },
    {
      "cell_type": "code",
      "source": [
        "def prepare_data_loaders(sketches_path, batch_size):\n",
        "    image_size = 224  # Typical input size for ViT models\n",
        "    transform = Compose([\n",
        "        Resize((image_size, image_size)),\n",
        "        ToTensor(),\n",
        "        Normalize(mean=[0.5, 0.5, 0.5], std=[0.5, 0.5, 0.5])\n",
        "    ])\n",
        "\n",
        "    # Load dataset\n",
        "    full_dataset = ImageFolder(root=sketches_path, transform=transform)\n",
        "\n",
        "    # Get labels for stratified splitting\n",
        "    labels = [label for _, label in full_dataset.samples]\n",
        "\n",
        "    # Stratified Splitting into train, val, and test\n",
        "    train_idx, test_idx = train_test_split(np.arange(len(labels)), test_size=0.2, random_state=42, stratify=labels)\n",
        "    test_idx, val_idx = train_test_split(test_idx, test_size=0.5, random_state=42, stratify=[labels[i] for i in test_idx])\n",
        "\n",
        "\n",
        "    train_dataset = Subset(full_dataset, train_idx)\n",
        "    val_dataset = Subset(full_dataset, val_idx)\n",
        "    test_dataset = Subset(full_dataset, test_idx)\n",
        "\n",
        "    # Create dataloaders\n",
        "    train_loader = DataLoader(train_dataset, batch_size=batch_size, shuffle=True)\n",
        "    val_loader = DataLoader(val_dataset, batch_size=batch_size, shuffle=False)\n",
        "    test_loader = DataLoader(test_dataset, batch_size=batch_size, shuffle=False)\n",
        "\n",
        "    return train_loader, val_loader, test_loader, full_dataset.classes"
      ],
      "metadata": {
        "id": "3Hulnh1PaMpI"
      },
      "execution_count": null,
      "outputs": []
    },
    {
      "cell_type": "markdown",
      "source": [
        "# Cell 4: Loading the Model\n",
        "# And Training, Validation and Testing Funciton"
      ],
      "metadata": {
        "id": "-e_MMohLaRIR"
      }
    },
    {
      "cell_type": "code",
      "source": [
        "class CustomViTModel(nn.Module):\n",
        "    def __init__(self, num_classes):\n",
        "        super(CustomViTModel, self).__init__()\n",
        "        self.model = timm.create_model('vit_huge_patch14_224.orig_in21k', pretrained=True)\n",
        "        self.model.head = nn.Linear(self.model.embed_dim, num_classes)\n",
        "\n",
        "    def forward(self, x):\n",
        "        x = self.model(x)\n",
        "        return x\n",
        "\n",
        "def train_func(model, train_loader, optimizer, criterion, device):\n",
        "    model.train()\n",
        "    training_loss = 0.0\n",
        "    correct = 0\n",
        "    total = 0\n",
        "    for batch in train_loader:\n",
        "        inputs, labels = batch\n",
        "        inputs, labels = inputs.to(device), labels.to(device)\n",
        "        optimizer.zero_grad()\n",
        "        outputs = model(inputs)\n",
        "        loss = criterion(outputs, labels)\n",
        "        loss.backward()\n",
        "        optimizer.step()\n",
        "\n",
        "        training_loss += loss.item() * inputs.size(0)\n",
        "        predictions = torch.argmax(outputs, dim=1)\n",
        "        total += labels.size(0)\n",
        "        correct += (predictions == labels).sum().item()\n",
        "\n",
        "    epoch_loss = training_loss / len(train_loader.dataset)\n",
        "    epoch_accuracy = 100 * correct / total\n",
        "    return epoch_loss, epoch_accuracy\n",
        "\n",
        "def validate(model, val_loader, criterion, device):\n",
        "    model.eval()\n",
        "    validation_loss = 0.0\n",
        "    correct = 0\n",
        "    total = 0\n",
        "    with torch.no_grad():\n",
        "        for inputs, labels in val_loader:\n",
        "            inputs, labels = inputs.to(device), labels.to(device)\n",
        "            outputs = model(inputs)\n",
        "            validation_loss += criterion(outputs, labels).item() * inputs.size(0)\n",
        "            predictions = torch.argmax(outputs, dim=1)\n",
        "            total += labels.size(0)\n",
        "            correct += (predictions == labels).sum().item()\n",
        "\n",
        "    validation_loss /= len(val_loader.dataset)\n",
        "    validation_accuracy = 100. * correct / total\n",
        "    return validation_loss, validation_accuracy\n",
        "\n",
        "def test(model, test_loader, criterion, device):\n",
        "    model.eval()\n",
        "    test_loss = 0\n",
        "    correct = 0\n",
        "    total = 0\n",
        "\n",
        "    with torch.no_grad():\n",
        "        for inputs, labels in test_loader:\n",
        "            inputs, labels = inputs.to(device), labels.to(device)\n",
        "            outputs = model(inputs)\n",
        "            test_loss += criterion(outputs, labels).item() * inputs.size(0)\n",
        "            predictions = torch.argmax(outputs, dim=1)\n",
        "            total += labels.size(0)\n",
        "            correct += (predictions == labels).sum().item()\n",
        "\n",
        "    test_loss /= len(test_loader.dataset)\n",
        "    test_accuracy = 100. * correct / total\n",
        "    return test_loss, test_accuracy"
      ],
      "metadata": {
        "id": "cyNqDkAKam9w"
      },
      "execution_count": null,
      "outputs": []
    },
    {
      "cell_type": "markdown",
      "source": [
        "# Cell 5: Training and Testing Loop"
      ],
      "metadata": {
        "id": "yl0Hz3apbBYO"
      }
    },
    {
      "cell_type": "code",
      "source": [
        "# Usage:\n",
        "batch_size = 32\n",
        "sketches_path = '/content/drive/My Drive/updated_png'\n",
        "train_loader, val_loader, test_loader, classes = prepare_data_loaders(sketches_path, batch_size)\n",
        "num_classes = len(classes)\n",
        "model = CustomViTModel(num_classes)\n",
        "\n",
        "device = torch.device(\"cuda\" if torch.cuda.is_available() else \"cpu\")\n",
        "model.to(device)\n",
        "\n",
        "# Define the optimizer and loss function for the classifier\n",
        "optimizer = optim.AdamW(model.parameters(), lr=5e-5)\n",
        "criterion = nn.CrossEntropyLoss()\n",
        "\n",
        "epochs = 10\n",
        "\n",
        "train_accuracies = []\n",
        "val_accuracies = []\n",
        "train_losses = []\n",
        "val_losses = []\n",
        "\n",
        "print(\"Starting training...\")\n",
        "total_start_time = time.time()  # Start timing before the training loop\n",
        "\n",
        "# Training and validation loop\n",
        "for epoch in range(epochs):\n",
        "    train_loss, train_accuracy = train_func(model, train_loader, optimizer, criterion, device)\n",
        "    val_loss, val_accuracy = validate(model, val_loader, criterion, device)\n",
        "\n",
        "    train_accuracies.append(train_accuracy)\n",
        "    val_accuracies.append(val_accuracy)\n",
        "    train_losses.append(train_loss)\n",
        "    val_losses.append(val_loss)\n",
        "\n",
        "    print(f\"Epoch {epoch+1}: Train Loss: {train_loss:.4f}, Train Accuracy: {train_accuracy:.2f}%, Val Loss: {val_loss:.4f}, Val Accuracy: {val_accuracy:.2f}%\")\n",
        "\n",
        "total_end_time = time.time()  # End timing after the loop\n",
        "total_duration = (total_end_time - total_start_time)/60\n",
        "print(f\"Total Running Time: {total_duration:.2f} minutes\")\n",
        "\n",
        "# Testing\n",
        "test_loss, test_accuracy = test(model, test_loader, criterion, device)\n",
        "print(f\"Test Loss: {test_loss:.4f}, Test Accuracy: {test_accuracy:.2f}%\")\n"
      ],
      "metadata": {
        "id": "Zh8c_cIB5utL"
      },
      "execution_count": null,
      "outputs": []
    },
    {
      "cell_type": "markdown",
      "source": [
        "# Cell 6: Calculating Top-5 Accuracy"
      ],
      "metadata": {
        "id": "IUec5C2-bRu-"
      }
    },
    {
      "cell_type": "code",
      "source": [
        "import torch\n",
        "import numpy as np\n",
        "from sklearn.metrics import top_k_accuracy_score\n",
        "\n",
        "def evaluate_model_with_sklearn_top_k(model, device, test_loader, classes, k=5):\n",
        "    \"\"\"\n",
        "    Evaluates the model on the test set using scikit-learn's top_k_accuracy_score.\n",
        "    Returns:\n",
        "    - None, prints the average Top-K accuracy.\n",
        "    \"\"\"\n",
        "    model.eval()  # Ensure the model is in evaluation mode\n",
        "    true_labels = []\n",
        "    all_scores = []\n",
        "\n",
        "    with torch.no_grad():  # Disable gradient computation\n",
        "        for data, target in test_loader:\n",
        "            data, target = data.to(device), target.to(device)\n",
        "            outputs = model(data)\n",
        "            # Softmax to convert model logits to probabilities\n",
        "            probabilities = torch.softmax(outputs, dim=1)\n",
        "            all_scores.extend(probabilities.cpu().numpy())\n",
        "            true_labels.extend(target.cpu().numpy())\n",
        "\n",
        "    true_labels = np.array(true_labels)\n",
        "    all_scores = np.array(all_scores)  # Shape: (n_samples, n_classes)\n",
        "\n",
        "    # Ensure the labels parameter is correctly handled\n",
        "    labels = np.arange(len(classes))\n",
        "\n",
        "    top_k_accuracy = top_k_accuracy_score(true_labels, all_scores, k=k, labels=labels)\n",
        "    print(f\"Top-{k} Accuracy on Test Set: {top_k_accuracy * 100:.2f}%\")\n",
        "\n",
        "\n",
        "evaluate_model_with_sklearn_top_k(model, device, test_loader, classes, k=5)\n"
      ],
      "metadata": {
        "id": "vhwLbztScX8i"
      },
      "execution_count": null,
      "outputs": []
    },
    {
      "cell_type": "markdown",
      "source": [
        "# Cell 7: Plotting Confusion Matrix"
      ],
      "metadata": {
        "id": "0sNEaaR3bcYV"
      }
    },
    {
      "cell_type": "code",
      "source": [
        "from sklearn.metrics import confusion_matrix, classification_report\n",
        "import matplotlib.pyplot as plt\n",
        "import seaborn as sns\n",
        "import os\n",
        "\n",
        "def get_class_names(folder_path):\n",
        "    \"\"\"\n",
        "    Returns a list of class names, where each class name is the name of a folder\n",
        "    containing images of that class.\n",
        "    \"\"\"\n",
        "    # List directories only\n",
        "    class_names = [d for d in os.listdir(folder_path) if os.path.isdir(os.path.join(folder_path, d))]\n",
        "    class_names.sort()  # sort the class names alphabetically\n",
        "    return class_names\n",
        "\n",
        "folder_path = '/content/drive/My Drive/updated_png'\n",
        "class_names = get_class_names(folder_path)\n",
        "print(class_names)\n",
        "\n",
        "\n",
        "def plot_confusion_matrix(model, device, data_loader, class_names):\n",
        "    \"\"\"\n",
        "    Generates and plots a confusion matrix and prints classification metrics for the given data.\n",
        "    \"\"\"\n",
        "    model.eval()\n",
        "    true_labels = []\n",
        "    pred_labels = []\n",
        "\n",
        "    with torch.no_grad():\n",
        "        for data, target in data_loader:\n",
        "            data, target = data.to(device), target.to(device)\n",
        "            outputs = model(data)\n",
        "            preds = torch.argmax(outputs, dim=1)\n",
        "            true_labels.extend(target.cpu().numpy())\n",
        "            pred_labels.extend(preds.cpu().numpy())\n",
        "\n",
        "    # Compute the confusion matrix\n",
        "    conf_mat = confusion_matrix(true_labels, pred_labels)\n",
        "\n",
        "    # Plot the confusion matrix\n",
        "    plt.figure(figsize=(10, 10))\n",
        "    sns.heatmap(conf_mat, annot=True, fmt='d', cmap='Blues', xticklabels=class_names, yticklabels=class_names)\n",
        "    plt.title('Confusion Matrix of ViT-H/14')\n",
        "    plt.xlabel('Predicted Labels')\n",
        "    plt.ylabel('True Labels')\n",
        "    plt.show()\n",
        "\n",
        "plot_confusion_matrix(model, device, test_loader, class_names)\n"
      ],
      "metadata": {
        "id": "ccBSSgXWqesj"
      },
      "execution_count": null,
      "outputs": []
    },
    {
      "cell_type": "markdown",
      "source": [
        "# Cell 8: Plotting Accuracy and Loss"
      ],
      "metadata": {
        "id": "h3gUemeIc0Xb"
      }
    },
    {
      "cell_type": "code",
      "source": [
        "import matplotlib.pyplot as plt\n",
        "\n",
        "# Define the function to plot learning curves\n",
        "def plot_learning_curves(train_accuracies, val_accuracies, train_losses, val_losses):\n",
        "    epochs = range(1, len(train_accuracies) + 1)\n",
        "\n",
        "    # Normalize accuracies to be on the same scale as losses\n",
        "    train_accuracies = [x / 100 for x in train_accuracies]\n",
        "    val_accuracies = [x / 100 for x in val_accuracies]\n",
        "\n",
        "    plt.figure(figsize=(10, 6))\n",
        "\n",
        "    # Plot training and validation accuracy\n",
        "    plt.plot(epochs, train_accuracies, label='Training Accuracy', color='blue', marker='o')\n",
        "    plt.plot(epochs, val_accuracies, label='Validation Accuracy', color='green', marker='o')\n",
        "\n",
        "    # Plot training and validation loss\n",
        "    plt.plot(epochs, train_losses, label='Training Loss', color='red', linestyle='--', marker='x')\n",
        "    plt.plot(epochs, val_losses, label='Validation Loss', color='orange', linestyle='--', marker='x')\n",
        "\n",
        "    plt.xlabel('Epochs')\n",
        "    plt.ylabel('Value')\n",
        "    plt.title('Accuracy and Loss: ViT-H/14')\n",
        "    plt.legend()\n",
        "    plt.grid(True)\n",
        "\n",
        "    plt.show()\n",
        "\n",
        "# Call the function with the extracted data\n",
        "plot_learning_curves(train_accuracies, val_accuracies, train_losses, val_losses)\n"
      ],
      "metadata": {
        "id": "l3erILv2qegG"
      },
      "execution_count": null,
      "outputs": []
    },
    {
      "cell_type": "code",
      "source": [
        "import matplotlib.pyplot as plt\n",
        "\n",
        "\n",
        "def plot_learning_curves(train_accuracies, val_accuracies, train_losses, val_losses):\n",
        "    epochs = range(1, len(train_accuracies) + 1)\n",
        "\n",
        "    plt.figure(figsize=(12, 4))\n",
        "    plt.subplot(1, 2, 1)\n",
        "    plt.plot(epochs, train_accuracies, label='Training accuracy')\n",
        "    plt.plot(epochs, val_accuracies, label='Validation accuracy')\n",
        "    plt.xlabel('Epochs')\n",
        "    plt.ylabel('Accuracy')\n",
        "    plt.legend()\n",
        "\n",
        "    plt.subplot(1, 2, 2)\n",
        "    plt.plot(epochs, train_losses, label='Training loss')\n",
        "    plt.plot(epochs, val_losses, label='Validation loss')\n",
        "    plt.xlabel('Epochs')\n",
        "    plt.ylabel('Loss')\n",
        "    plt.legend()\n",
        "\n",
        "    plt.suptitle('Accuracy and Loss: Vit-H/14')\n",
        "    plt.show()\n",
        "\n",
        "plot_learning_curves(train_accuracies, val_accuracies, train_losses, val_losses)\n"
      ],
      "metadata": {
        "id": "fW3u_6BScYwN"
      },
      "execution_count": null,
      "outputs": []
    },
    {
      "cell_type": "code",
      "source": [],
      "metadata": {
        "id": "uaO4PpQLdgzm"
      },
      "execution_count": null,
      "outputs": []
    }
  ],
  "metadata": {
    "colab": {
      "provenance": []
    },
    "kernelspec": {
      "display_name": "Python 3",
      "name": "python3"
    }
  },
  "nbformat": 4,
  "nbformat_minor": 0
}